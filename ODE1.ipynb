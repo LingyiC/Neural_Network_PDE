{
  "nbformat": 4,
  "nbformat_minor": 0,
  "metadata": {
    "colab": {
      "name": "ODE1.ipynb",
      "version": "0.3.2",
      "provenance": [],
      "collapsed_sections": [],
      "include_colab_link": true
    },
    "kernelspec": {
      "name": "python3",
      "display_name": "Python 3"
    }
  },
  "cells": [
    {
      "cell_type": "markdown",
      "metadata": {
        "id": "view-in-github",
        "colab_type": "text"
      },
      "source": [
        "<a href=\"https://colab.research.google.com/github/zw2497/Neural_Network_PDE/blob/master/ODE1.ipynb\" target=\"_parent\"><img src=\"https://colab.research.google.com/assets/colab-badge.svg\" alt=\"Open In Colab\"/></a>"
      ]
    },
    {
      "metadata": {
        "id": "_JIClNsbFUy-",
        "colab_type": "code",
        "colab": {
          "base_uri": "https://localhost:8080/",
          "height": 119
        },
        "outputId": "a1315374-8250-446f-e42d-471108374997"
      },
      "cell_type": "code",
      "source": [
        "pip -q install tf-nightly-2.0-preview"
      ],
      "execution_count": 1,
      "outputs": [
        {
          "output_type": "stream",
          "text": [
            "\u001b[K     |████████████████████████████████| 87.1MB 1.2MB/s \n",
            "\u001b[K     |████████████████████████████████| 430kB 43.2MB/s \n",
            "\u001b[K     |████████████████████████████████| 61kB 22.0MB/s \n",
            "\u001b[K     |████████████████████████████████| 3.1MB 48.9MB/s \n",
            "\u001b[?25h  Building wheel for wrapt (setup.py) ... \u001b[?25l\u001b[?25hdone\n",
            "\u001b[31mERROR: thinc 6.12.1 has requirement wrapt<1.11.0,>=1.10.0, but you'll have wrapt 1.11.1 which is incompatible.\u001b[0m\n"
          ],
          "name": "stdout"
        }
      ]
    },
    {
      "metadata": {
        "id": "nj1JPizsAmTm",
        "colab_type": "code",
        "colab": {}
      },
      "cell_type": "code",
      "source": [
        "import tensorflow as tf \n",
        "import numpy as np\n",
        "from matplotlib import pyplot as plt\n",
        "from tensorflow import keras\n",
        "%matplotlib inline\n"
      ],
      "execution_count": 0,
      "outputs": []
    },
    {
      "metadata": {
        "id": "M6wwR-2FMcsf",
        "colab_type": "code",
        "colab": {}
      },
      "cell_type": "code",
      "source": [
        "from tensorflow.keras import Model\n",
        "from tensorflow.keras.layers import Dense, Flatten\n",
        "from tensorflow.nn import relu"
      ],
      "execution_count": 0,
      "outputs": []
    },
    {
      "metadata": {
        "id": "Dfe18-GyFWJr",
        "colab_type": "code",
        "outputId": "5c216672-2b36-450a-d090-23985b295c2f",
        "colab": {
          "base_uri": "https://localhost:8080/",
          "height": 34
        }
      },
      "cell_type": "code",
      "source": [
        "print(\"You have version\", tf.__version__)\n",
        "assert tf.__version__ >= \"2.0\" # TensorFlow ≥ 2.0 required"
      ],
      "execution_count": 4,
      "outputs": [
        {
          "output_type": "stream",
          "text": [
            "You have version 2.0.0-dev20190501\n"
          ],
          "name": "stdout"
        }
      ]
    },
    {
      "metadata": {
        "id": "yvvYHvUHApi3",
        "colab_type": "code",
        "colab": {}
      },
      "cell_type": "code",
      "source": [
        "nx = 10\n",
        "dx = 1. / nx"
      ],
      "execution_count": 0,
      "outputs": []
    },
    {
      "metadata": {
        "id": "G5uMWaGLAuqB",
        "colab_type": "code",
        "colab": {}
      },
      "cell_type": "code",
      "source": [
        "def A(x):\n",
        "    '''\n",
        "        Left part of initial equation\n",
        "    '''\n",
        "    return x + (1. + 3.*x**2) / (1. + x + x**3)\n",
        "\n",
        "\n",
        "def B(x):\n",
        "    '''\n",
        "        Right part of initial equation\n",
        "    '''\n",
        "    return x**3 + 2.*x + x**2 * ((1. + 3.*x**2) / (1. + x + x**3))\n",
        "\n",
        "\n",
        "def f(x, psy):\n",
        "    '''\n",
        "        d(psy)/dx = f(x, psy)\n",
        "        This is f() function on the right\n",
        "    '''\n",
        "    return B(x) - psy * A(x)\n",
        "\n",
        "\n",
        "def psy_analytic(x):\n",
        "    '''\n",
        "        Analytical solution of current problem\n",
        "    '''\n",
        "    return (np.exp((-x**2)/2.)) / (1. + x + x**3) + x**2"
      ],
      "execution_count": 0,
      "outputs": []
    },
    {
      "metadata": {
        "id": "GrGW2ir_Aw9A",
        "colab_type": "code",
        "outputId": "02fed073-a229-4ece-88c4-37edb95b79fe",
        "colab": {
          "base_uri": "https://localhost:8080/",
          "height": 283
        }
      },
      "cell_type": "code",
      "source": [
        "x_space = np.linspace(0, 1, nx)    \n",
        "y_space = psy_analytic(x_space)\n",
        "psy_fd = np.zeros_like(y_space)\n",
        "psy_fd[0] = 1. # IC\n",
        "\n",
        "for i in range(1, len(x_space)):\n",
        "    psy_fd[i] = psy_fd[i-1] + B(x_space[i]) * dx - psy_fd[i-1] * A(x_space[i]) * dx\n",
        "\n",
        "plt.figure()\n",
        "plt.plot(x_space, y_space) \n",
        "plt.plot(x_space, psy_fd)\n",
        "plt.legend([\"Analytical solution\",\"Iteration solution\"])\n",
        "plt.xlabel(\"x\")\n",
        "plt.ylabel(\"y\")\n",
        "plt.show()"
      ],
      "execution_count": 19,
      "outputs": [
        {
          "output_type": "display_data",
          "data": {
            "image/png": "[encoded data removed]",
            "text/plain": [
              "<Figure size 432x288 with 1 Axes>"
            ]
          },
          "metadata": {
            "tags": []
          }
        }
      ]
    },
    {
      "metadata": {
        "id": "aZhj9XUbEQaB",
        "colab_type": "text"
      },
      "cell_type": "markdown",
      "source": [
        "# Build Neural Network"
      ]
    },
    {
      "metadata": {
        "id": "MHFVvdlBGW0E",
        "colab_type": "code",
        "colab": {}
      },
      "cell_type": "code",
      "source": [
        "def loss_function(y_true, y_pred):\n",
        "    return keras.losses.mean_squared_error(y_true, y_pred)"
      ],
      "execution_count": 0,
      "outputs": []
    },
    {
      "metadata": {
        "id": "BeccXgfgAxoc",
        "colab_type": "code",
        "colab": {}
      },
      "cell_type": "code",
      "source": [
        "class MyModel(Model):\n",
        "    def __init__(self):\n",
        "        super(Model, self).__init__()\n",
        "        self.d1 = Dense(10, activation='relu')\n",
        "        self.d2 = Dense(1)\n",
        "\n",
        "    def call(self, x):\n",
        "        x = self.d1(x)\n",
        "        return self.d2(x)\n",
        "\n",
        "model = MyModel()\n",
        "optimizer = tf.keras.optimizers.Adam()"
      ],
      "execution_count": 0,
      "outputs": []
    },
    {
      "metadata": {
        "id": "grH9gmJAZjTw",
        "colab_type": "code",
        "colab": {}
      },
      "cell_type": "code",
      "source": [
        "x_space = np.linspace(0, 1, 10).astype('float64').reshape(10,1)\n",
        "x_space = tf.constant(x_space)"
      ],
      "execution_count": 0,
      "outputs": []
    },
    {
      "metadata": {
        "id": "fz-1ukpyY3Z9",
        "colab_type": "code",
        "outputId": "5ab7e966-37e9-4937-c271-135bfb178135",
        "colab": {
          "base_uri": "https://localhost:8080/",
          "height": 68
        }
      },
      "cell_type": "code",
      "source": [
        "def train_on_batch(x):\n",
        "    with tf.GradientTape() as tape:\n",
        "        with tf.GradientTape() as g:\n",
        "            g.watch(x)\n",
        "            net_out = model(x)\n",
        "            psy_t = 1 + x * net_out\n",
        "        d_psy_t = g.gradient(psy_t, x)\n",
        "        \n",
        "        y_predict = B(x) - psy_t * A(x)\n",
        "        loss = loss_function(B(x) - psy_t * A(x), d_psy_t)\n",
        "        \n",
        "    grads = tape.gradient(loss, model.variables)\n",
        "    optimizer.apply_gradients(zip(grads, model.variables))\n",
        "\n",
        "    return loss\n",
        "train_on_batch(x_space)"
      ],
      "execution_count": 11,
      "outputs": [
        {
          "output_type": "execute_result",
          "data": {
            "text/plain": [
              "<tf.Tensor: id=159, shape=(10,), dtype=float64, numpy=\n",
              "array([1.        , 0.95946811, 1.03481429, 1.17963597, 1.35310894,\n",
              "       1.51162588, 1.61297261, 1.62506833, 1.53293531, 1.34087145])>"
            ]
          },
          "metadata": {
            "tags": []
          },
          "execution_count": 11
        }
      ]
    },
    {
      "metadata": {
        "id": "ICJQ8FivgxnR",
        "colab_type": "code",
        "colab": {}
      },
      "cell_type": "code",
      "source": [
        "for _ in range(1000):\n",
        "    train_on_batch(x_space)"
      ],
      "execution_count": 0,
      "outputs": []
    },
    {
      "metadata": {
        "id": "co4dhyE7U8Cg",
        "colab_type": "code",
        "colab": {}
      },
      "cell_type": "code",
      "source": [
        "test = np.array([[2.0], [3.0]]).astype('float64')\n",
        "test = tf.constant(test)"
      ],
      "execution_count": 0,
      "outputs": []
    },
    {
      "metadata": {
        "id": "cTiA8Rx6UF_d",
        "colab_type": "code",
        "outputId": "49da8bce-a830-454f-f510-fede05b2b9fb",
        "colab": {
          "base_uri": "https://localhost:8080/",
          "height": 51
        }
      },
      "cell_type": "code",
      "source": [
        "test = np.array([[2.0]]).astype('float64')\n",
        "test = tf.constant(test)\n",
        "with tf.GradientTape() as tape:\n",
        "    tape.watch(test)\n",
        "    net_out = model(test)\n",
        "    print(type(test), type(net_out))\n",
        "    psy_t = 1 + tf.math.multiply(test, net_out)\n",
        "tape.gradient(psy_t, test)"
      ],
      "execution_count": 14,
      "outputs": [
        {
          "output_type": "stream",
          "text": [
            "<class 'tensorflow.python.framework.ops.EagerTensor'> <class 'tensorflow.python.framework.ops.EagerTensor'>\n"
          ],
          "name": "stdout"
        },
        {
          "output_type": "execute_result",
          "data": {
            "text/plain": [
              "<tf.Tensor: id=267468, shape=(1, 1), dtype=float64, numpy=array([[3.57554138]])>"
            ]
          },
          "metadata": {
            "tags": []
          },
          "execution_count": 14
        }
      ]
    },
    {
      "metadata": {
        "id": "i1v4zrG3aWO1",
        "colab_type": "code",
        "outputId": "9a58e5d2-1bba-46aa-e74c-40396f001fa7",
        "colab": {
          "base_uri": "https://localhost:8080/",
          "height": 283
        }
      },
      "cell_type": "code",
      "source": [
        "x_space = np.linspace(0, 1, nx)    \n",
        "y_space = psy_analytic(x_space)\n",
        "psy_fd = np.zeros_like(y_space)\n",
        "psy_fd[0] = 1. # IC\n",
        "\n",
        "for i in range(1, len(x_space)):\n",
        "    psy_fd[i] = psy_fd[i-1] + B(x_space[i]) * dx - psy_fd[i-1] * A(x_space[i]) * dx\n",
        "  \n",
        "plt.figure()\n",
        "plt.plot(x_space, y_space) \n",
        "plt.plot(x_space, psy_fd)\n",
        "plt.legend([\"Analytical solution\",\"NN solution\"])\n",
        "plt.xlabel(\"x\")\n",
        "plt.ylabel(\"y\")\n",
        "plt.show()"
      ],
      "execution_count": 15,
      "outputs": [
        {
          "output_type": "display_data",
          "data": {
            "image/png": "[encoded data removed]",
            "text/plain": [
              "<Figure size 432x288 with 1 Axes>"
            ]
          },
          "metadata": {
            "tags": []
          }
        }
      ]
    },
    {
      "metadata": {
        "id": "gRwbQkhDaoBh",
        "colab_type": "code",
        "outputId": "a78b60bd-c67a-44ac-91fc-5a684b7fcf08",
        "colab": {
          "base_uri": "https://localhost:8080/",
          "height": 51
        }
      },
      "cell_type": "code",
      "source": [
        "x_space"
      ],
      "execution_count": 16,
      "outputs": [
        {
          "output_type": "execute_result",
          "data": {
            "text/plain": [
              "array([0.        , 0.11111111, 0.22222222, 0.33333333, 0.44444444,\n",
              "       0.55555556, 0.66666667, 0.77777778, 0.88888889, 1.        ])"
            ]
          },
          "metadata": {
            "tags": []
          },
          "execution_count": 16
        }
      ]
    },
    {
      "metadata": {
        "id": "YqQVVp-ia2Hu",
        "colab_type": "code",
        "outputId": "bc3fb9db-7c6a-4bfc-900a-7a32b3f9148f",
        "colab": {
          "base_uri": "https://localhost:8080/",
          "height": 187
        }
      },
      "cell_type": "code",
      "source": [
        "for xi in x_space:\n",
        "    tt = model(np.array(xi).reshape(1,1))\n",
        "    print(tt.numpy())"
      ],
      "execution_count": 17,
      "outputs": [
        {
          "output_type": "stream",
          "text": [
            "[[-0.59679793]]\n",
            "[[-0.6004909]]\n",
            "[[-0.60418386]]\n",
            "[[-0.53082425]]\n",
            "[[-0.40638892]]\n",
            "[[-0.2819536]]\n",
            "[[-0.15751828]]\n",
            "[[-0.03308296]]\n",
            "[[0.09135236]]\n",
            "[[0.21578769]]\n"
          ],
          "name": "stdout"
        }
      ]
    },
    {
      "metadata": {
        "id": "uYE011vaYaJn",
        "colab_type": "code",
        "outputId": "76f654c1-804d-4cdf-84bc-140717350f23",
        "colab": {
          "base_uri": "https://localhost:8080/",
          "height": 283
        }
      },
      "cell_type": "code",
      "source": [
        "res = [1 + xi * model(np.array(xi).reshape(1,1))[0][0] for xi in x_space] \n",
        "\n",
        "plt.figure()\n",
        "plt.plot(x_space, y_space) \n",
        "plt.plot(x_space, psy_fd)\n",
        "plt.plot(x_space, res)\n",
        "plt.legend([\"Analytical solution\",\"Iteration solution\",\"NN solution\"])\n",
        "plt.xlabel(\"x\")\n",
        "plt.ylabel(\"y\")\n",
        "plt.show()"
      ],
      "execution_count": 18,
      "outputs": [
        {
          "output_type": "display_data",
          "data": {
            "image/png": "[encoded data removed]",
            "text/plain": [
              "<Figure size 432x288 with 1 Axes>"
            ]
          },
          "metadata": {
            "tags": []
          }
        }
      ]
    },
    {
      "metadata": {
        "id": "HuTzNyjDhqfb",
        "colab_type": "code",
        "colab": {}
      },
      "cell_type": "code",
      "source": [
        ""
      ],
      "execution_count": 0,
      "outputs": []
    }
  ]
}
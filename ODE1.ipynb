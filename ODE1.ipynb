{
  "nbformat": 4,
  "nbformat_minor": 0,
  "metadata": {
    "colab": {
      "name": "ODE1.ipynb",
      "version": "0.3.2",
      "provenance": [],
      "collapsed_sections": [],
      "include_colab_link": true
    },
    "kernelspec": {
      "name": "python3",
      "display_name": "Python 3"
    }
  },
  "cells": [
    {
      "cell_type": "markdown",
      "metadata": {
        "id": "view-in-github",
        "colab_type": "text"
      },
      "source": [
        "<a href=\"https://colab.research.google.com/github/zw2497/Neural_Network_PDE/blob/master/ODE1.ipynb\" target=\"_parent\"><img src=\"https://colab.research.google.com/assets/colab-badge.svg\" alt=\"Open In Colab\"/></a>"
      ]
    },
    {
      "metadata": {
        "id": "_JIClNsbFUy-",
        "colab_type": "code",
        "colab": {}
      },
      "cell_type": "code",
      "source": [
        "pip -q install tf-nightly-2.0-preview"
      ],
      "execution_count": 0,
      "outputs": []
    },
    {
      "metadata": {
        "id": "nj1JPizsAmTm",
        "colab_type": "code",
        "colab": {}
      },
      "cell_type": "code",
      "source": [
        "import tensorflow as tf \n",
        "import numpy as np\n",
        "from matplotlib import pyplot as plt\n",
        "from tensorflow import keras\n",
        "%matplotlib inline\n"
      ],
      "execution_count": 0,
      "outputs": []
    },
    {
      "metadata": {
        "id": "M6wwR-2FMcsf",
        "colab_type": "code",
        "colab": {}
      },
      "cell_type": "code",
      "source": [
        "from tensorflow.keras import Model\n",
        "from tensorflow.keras.layers import Dense, Flatten\n",
        "from tensorflow.nn import relu"
      ],
      "execution_count": 0,
      "outputs": []
    },
    {
      "metadata": {
        "id": "Dfe18-GyFWJr",
        "colab_type": "code",
        "outputId": "ee77cb18-e097-42f5-cf48-3ff2a2df7a06",
        "colab": {
          "base_uri": "https://localhost:8080/",
          "height": 34
        }
      },
      "cell_type": "code",
      "source": [
        "print(\"You have version\", tf.__version__)\n",
        "assert tf.__version__ >= \"2.0\" # TensorFlow ≥ 2.0 required"
      ],
      "execution_count": 0,
      "outputs": [
        {
          "output_type": "stream",
          "text": [
            "You have version 2.0.0-dev20190413\n"
          ],
          "name": "stdout"
        }
      ]
    },
    {
      "metadata": {
        "id": "yvvYHvUHApi3",
        "colab_type": "code",
        "colab": {}
      },
      "cell_type": "code",
      "source": [
        "nx = 10\n",
        "dx = 1. / nx"
      ],
      "execution_count": 0,
      "outputs": []
    },
    {
      "metadata": {
        "id": "G5uMWaGLAuqB",
        "colab_type": "code",
        "colab": {}
      },
      "cell_type": "code",
      "source": [
        "def A(x):\n",
        "    '''\n",
        "        Left part of initial equation\n",
        "    '''\n",
        "    return x + (1. + 3.*x**2) / (1. + x + x**3)\n",
        "\n",
        "\n",
        "def B(x):\n",
        "    '''\n",
        "        Right part of initial equation\n",
        "    '''\n",
        "    return x**3 + 2.*x + x**2 * ((1. + 3.*x**2) / (1. + x + x**3))\n",
        "\n",
        "\n",
        "def f(x, psy):\n",
        "    '''\n",
        "        d(psy)/dx = f(x, psy)\n",
        "        This is f() function on the right\n",
        "    '''\n",
        "    return B(x) - psy * A(x)\n",
        "\n",
        "\n",
        "def psy_analytic(x):\n",
        "    '''\n",
        "        Analytical solution of current problem\n",
        "    '''\n",
        "    return (np.exp((-x**2)/2.)) / (1. + x + x**3) + x**2"
      ],
      "execution_count": 0,
      "outputs": []
    },
    {
      "metadata": {
        "id": "GrGW2ir_Aw9A",
        "colab_type": "code",
        "outputId": "3c66babd-fd00-4a81-85b6-bbb113b0e9b7",
        "colab": {
          "base_uri": "https://localhost:8080/",
          "height": 269
        }
      },
      "cell_type": "code",
      "source": [
        "x_space = np.linspace(0, 1, nx)    \n",
        "y_space = psy_analytic(x_space)\n",
        "psy_fd = np.zeros_like(y_space)\n",
        "psy_fd[0] = 1. # IC\n",
        "\n",
        "for i in range(1, len(x_space)):\n",
        "    psy_fd[i] = psy_fd[i-1] + B(x_space[i]) * dx - psy_fd[i-1] * A(x_space[i]) * dx\n",
        "\n",
        "plt.figure()\n",
        "plt.plot(x_space, y_space) \n",
        "plt.plot(x_space, psy_fd)\n",
        "plt.show()"
      ],
      "execution_count": 0,
      "outputs": [
        {
          "output_type": "display_data",
          "data": {
            "image/png": "[encoded data removed]",
            "text/plain": [
              "<Figure size 432x288 with 1 Axes>"
            ]
          },
          "metadata": {
            "tags": []
          }
        }
      ]
    },
    {
      "metadata": {
        "id": "aZhj9XUbEQaB",
        "colab_type": "text"
      },
      "cell_type": "markdown",
      "source": [
        "# Build Neural Network"
      ]
    },
    {
      "metadata": {
        "id": "MHFVvdlBGW0E",
        "colab_type": "code",
        "colab": {}
      },
      "cell_type": "code",
      "source": [
        "def loss_function(y_true, y_pred):\n",
        "    return keras.losses.mean_squared_error(y_true, y_pred)"
      ],
      "execution_count": 0,
      "outputs": []
    },
    {
      "metadata": {
        "id": "BeccXgfgAxoc",
        "colab_type": "code",
        "colab": {}
      },
      "cell_type": "code",
      "source": [
        "class MyModel(Model):\n",
        "    def __init__(self):\n",
        "        super(Model, self).__init__()\n",
        "        self.d1 = Dense(10, activation='relu')\n",
        "        self.d2 = Dense(1)\n",
        "\n",
        "    def call(self, x):\n",
        "        x = self.d1(x)\n",
        "        return self.d2(x)\n",
        "\n",
        "model = MyModel()\n",
        "optimizer = tf.keras.optimizers.Adam()"
      ],
      "execution_count": 0,
      "outputs": []
    },
    {
      "metadata": {
        "id": "grH9gmJAZjTw",
        "colab_type": "code",
        "colab": {}
      },
      "cell_type": "code",
      "source": [
        "x_space = np.linspace(0, 1, 10).astype('float64').reshape(10,1)\n",
        "x_space = tf.constant(x_space)"
      ],
      "execution_count": 0,
      "outputs": []
    },
    {
      "metadata": {
        "id": "fz-1ukpyY3Z9",
        "colab_type": "code",
        "outputId": "5fbab00d-76d3-4452-d701-335d0229e838",
        "colab": {
          "base_uri": "https://localhost:8080/",
          "height": 68
        }
      },
      "cell_type": "code",
      "source": [
        "def train_on_batch(x):\n",
        "    with tf.GradientTape() as tape:\n",
        "        with tf.GradientTape() as g:\n",
        "            g.watch(x)\n",
        "            net_out = model(x)\n",
        "            psy_t = 1 + x * net_out\n",
        "        d_psy_t = g.gradient(psy_t, x)\n",
        "        \n",
        "        y_predict = B(x) - psy_t * A(x)\n",
        "        loss = loss_function(B(x) - psy_t * A(x), d_psy_t)\n",
        "        \n",
        "    grads = tape.gradient(loss, model.variables)\n",
        "    optimizer.apply_gradients(zip(grads, model.variables))\n",
        "\n",
        "    return loss\n",
        "train_on_batch(x_space)"
      ],
      "execution_count": 0,
      "outputs": [
        {
          "output_type": "execute_result",
          "data": {
            "text/plain": [
              "<tf.Tensor: id=159, shape=(10,), dtype=float64, numpy=\n",
              "array([1.        , 0.74525414, 0.59189884, 0.46884204, 0.3350222 ,\n",
              "       0.18075034, 0.04123608, 0.01029266, 0.2462904 , 0.96944056])>"
            ]
          },
          "metadata": {
            "tags": []
          },
          "execution_count": 11
        }
      ]
    },
    {
      "metadata": {
        "id": "ICJQ8FivgxnR",
        "colab_type": "code",
        "colab": {}
      },
      "cell_type": "code",
      "source": [
        "for _ in range(1000):\n",
        "    train_on_batch(x_space)"
      ],
      "execution_count": 0,
      "outputs": []
    },
    {
      "metadata": {
        "id": "co4dhyE7U8Cg",
        "colab_type": "code",
        "colab": {}
      },
      "cell_type": "code",
      "source": [
        "test = np.array([[2.0], [3.0]]).astype('float64')\n",
        "test = tf.constant(test)"
      ],
      "execution_count": 0,
      "outputs": []
    },
    {
      "metadata": {
        "id": "cTiA8Rx6UF_d",
        "colab_type": "code",
        "outputId": "0cdf4da7-982d-466f-803c-78df85febdc1",
        "colab": {
          "base_uri": "https://localhost:8080/",
          "height": 51
        }
      },
      "cell_type": "code",
      "source": [
        "test = np.array([[2.0]]).astype('float64')\n",
        "test = tf.constant(test)\n",
        "with tf.GradientTape() as tape:\n",
        "    tape.watch(test)\n",
        "    net_out = model(test)\n",
        "    print(type(test), type(net_out))\n",
        "    psy_t = 1 + tf.math.multiply(test, net_out)\n",
        "tape.gradient(psy_t, test)"
      ],
      "execution_count": 0,
      "outputs": [
        {
          "output_type": "stream",
          "text": [
            "<class 'tensorflow.python.framework.ops.EagerTensor'> <class 'tensorflow.python.framework.ops.EagerTensor'>\n"
          ],
          "name": "stdout"
        },
        {
          "output_type": "execute_result",
          "data": {
            "text/plain": [
              "<tf.Tensor: id=267468, shape=(1, 1), dtype=float64, numpy=array([[5.18634321]])>"
            ]
          },
          "metadata": {
            "tags": []
          },
          "execution_count": 14
        }
      ]
    },
    {
      "metadata": {
        "id": "i1v4zrG3aWO1",
        "colab_type": "code",
        "outputId": "f3e91cf0-c443-431b-fa48-e3c7c799cf64",
        "colab": {
          "base_uri": "https://localhost:8080/",
          "height": 269
        }
      },
      "cell_type": "code",
      "source": [
        "x_space = np.linspace(0, 1, nx)    \n",
        "y_space = psy_analytic(x_space)\n",
        "psy_fd = np.zeros_like(y_space)\n",
        "psy_fd[0] = 1. # IC\n",
        "\n",
        "for i in range(1, len(x_space)):\n",
        "    psy_fd[i] = psy_fd[i-1] + B(x_space[i]) * dx - psy_fd[i-1] * A(x_space[i]) * dx\n",
        "  \n",
        "plt.figure()\n",
        "plt.plot(x_space, y_space) \n",
        "plt.plot(x_space, psy_fd)\n",
        "plt.show()"
      ],
      "execution_count": 0,
      "outputs": [
        {
          "output_type": "display_data",
          "data": {
            "image/png": "[encoded data removed]",
            "text/plain": [
              "<Figure size 432x288 with 1 Axes>"
            ]
          },
          "metadata": {
            "tags": []
          }
        }
      ]
    },
    {
      "metadata": {
        "id": "gRwbQkhDaoBh",
        "colab_type": "code",
        "outputId": "c59da996-7183-4cc7-b7ec-bda58fca0ae0",
        "colab": {
          "base_uri": "https://localhost:8080/",
          "height": 51
        }
      },
      "cell_type": "code",
      "source": [
        "x_space"
      ],
      "execution_count": 0,
      "outputs": [
        {
          "output_type": "execute_result",
          "data": {
            "text/plain": [
              "array([0.        , 0.11111111, 0.22222222, 0.33333333, 0.44444444,\n",
              "       0.55555556, 0.66666667, 0.77777778, 0.88888889, 1.        ])"
            ]
          },
          "metadata": {
            "tags": []
          },
          "execution_count": 16
        }
      ]
    },
    {
      "metadata": {
        "id": "YqQVVp-ia2Hu",
        "colab_type": "code",
        "outputId": "e1cfcdb7-d934-4eb0-e757-d90eda2a5195",
        "colab": {
          "base_uri": "https://localhost:8080/",
          "height": 187
        }
      },
      "cell_type": "code",
      "source": [
        "for xi in x_space:\n",
        "    tt = model(np.array(xi).reshape(1,1))\n",
        "    print(tt.numpy())"
      ],
      "execution_count": 0,
      "outputs": [
        {
          "output_type": "stream",
          "text": [
            "[[-0.81392724]]\n",
            "[[-0.74575873]]\n",
            "[[-0.63913567]]\n",
            "[[-0.53251261]]\n",
            "[[-0.42588955]]\n",
            "[[-0.3192665]]\n",
            "[[-0.21264344]]\n",
            "[[-0.10119103]]\n",
            "[[0.04701706]]\n",
            "[[0.19522515]]\n"
          ],
          "name": "stdout"
        }
      ]
    },
    {
      "metadata": {
        "id": "uYE011vaYaJn",
        "colab_type": "code",
        "outputId": "b4567b9a-00c6-4329-d402-f2a459428ac2",
        "colab": {
          "base_uri": "https://localhost:8080/",
          "height": 269
        }
      },
      "cell_type": "code",
      "source": [
        "res = [1 + xi * model(np.array(xi).reshape(1,1))[0][0] for xi in x_space] \n",
        "\n",
        "plt.figure()\n",
        "plt.plot(x_space, y_space) \n",
        "plt.plot(x_space, psy_fd)\n",
        "plt.plot(x_space, res)\n",
        "plt.show()"
      ],
      "execution_count": 0,
      "outputs": [
        {
          "output_type": "display_data",
          "data": {
            "image/png": "[encoded data removed]",
            "text/plain": [
              "<Figure size 432x288 with 1 Axes>"
            ]
          },
          "metadata": {
            "tags": []
          }
        }
      ]
    },
    {
      "metadata": {
        "id": "HuTzNyjDhqfb",
        "colab_type": "code",
        "colab": {}
      },
      "cell_type": "code",
      "source": [
        ""
      ],
      "execution_count": 0,
      "outputs": []
    }
  ]
}
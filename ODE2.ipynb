{
  "nbformat": 4,
  "nbformat_minor": 0,
  "metadata": {
    "colab": {
      "name": "ord2.ipynb",
      "version": "0.3.2",
      "provenance": [],
      "collapsed_sections": [],
      "include_colab_link": true
    },
    "kernelspec": {
      "name": "python3",
      "display_name": "Python 3"
    }
  },
  "cells": [
    {
      "cell_type": "markdown",
      "metadata": {
        "id": "view-in-github",
        "colab_type": "text"
      },
      "source": [
        "<a href=\"https://colab.research.google.com/github/zw2497/Neural_Network_PDE/blob/master/ord2.ipynb\" target=\"_parent\"><img src=\"https://colab.research.google.com/assets/colab-badge.svg\" alt=\"Open In Colab\"/></a>"
      ]
    },
    {
      "metadata": {
        "id": "_JIClNsbFUy-",
        "colab_type": "code",
        "colab": {
          "base_uri": "https://localhost:8080/",
          "height": 148
        },
        "outputId": "521f2cb1-9622-48e8-9398-fd8209289309"
      },
      "cell_type": "code",
      "source": [
        "!pip -q install tf-nightly-2.0-preview"
      ],
      "execution_count": 1,
      "outputs": [
        {
          "output_type": "stream",
          "text": [
            "\u001b[K    100% |████████████████████████████████| 86.8MB 284kB/s \n",
            "\u001b[K    100% |████████████████████████████████| 3.1MB 11.1MB/s \n",
            "\u001b[K    100% |████████████████████████████████| 61kB 21.7MB/s \n",
            "\u001b[K    100% |████████████████████████████████| 430kB 20.3MB/s \n",
            "\u001b[?25h  Building wheel for wrapt (setup.py) ... \u001b[?25ldone\n",
            "\u001b[31mthinc 6.12.1 has requirement wrapt<1.11.0,>=1.10.0, but you'll have wrapt 1.11.1 which is incompatible.\u001b[0m\n",
            "\u001b[?25h"
          ],
          "name": "stdout"
        }
      ]
    },
    {
      "metadata": {
        "id": "nj1JPizsAmTm",
        "colab_type": "code",
        "colab": {}
      },
      "cell_type": "code",
      "source": [
        "import tensorflow as tf \n",
        "import numpy as np\n",
        "from matplotlib import pyplot as plt\n",
        "from tensorflow import keras\n",
        "%matplotlib inline"
      ],
      "execution_count": 0,
      "outputs": []
    },
    {
      "metadata": {
        "id": "M6wwR-2FMcsf",
        "colab_type": "code",
        "colab": {}
      },
      "cell_type": "code",
      "source": [
        "from tensorflow.keras.models import Sequential\n",
        "from tensorflow.keras.layers import Dense, Flatten, Dropout\n",
        "from tensorflow.nn import relu"
      ],
      "execution_count": 0,
      "outputs": []
    },
    {
      "metadata": {
        "id": "Dfe18-GyFWJr",
        "colab_type": "code",
        "outputId": "23950295-0203-465c-ccf4-6d53d27d449d",
        "colab": {
          "base_uri": "https://localhost:8080/",
          "height": 34
        }
      },
      "cell_type": "code",
      "source": [
        "print(\"You have version\", tf.__version__)\n",
        "assert tf.__version__ >= \"2.0\" # TensorFlow ≥ 2.0 required"
      ],
      "execution_count": 337,
      "outputs": [
        {
          "output_type": "stream",
          "text": [
            "You have version 2.0.0-dev20190420\n"
          ],
          "name": "stdout"
        }
      ]
    },
    {
      "metadata": {
        "id": "yvvYHvUHApi3",
        "colab_type": "code",
        "colab": {}
      },
      "cell_type": "code",
      "source": [
        "nx = 10\n",
        "dx = 1. / nx"
      ],
      "execution_count": 0,
      "outputs": []
    },
    {
      "metadata": {
        "id": "G5uMWaGLAuqB",
        "colab_type": "code",
        "colab": {}
      },
      "cell_type": "code",
      "source": [
        "def f(x, psy, dpsy):\n",
        "    '''\n",
        "        d2(psy)/dx2 = f(x, dpsy/dx, psy)\n",
        "        This is f() function on the right\n",
        "    '''\n",
        "    return -1./5. * np.exp(-x/5.) * np.cos(x) - 1./5. * dpsy - psy\n",
        "\n",
        "\n",
        "def psy_analytic(x):\n",
        "    '''\n",
        "        Analytical solution of current problem\n",
        "    '''\n",
        "    return np.exp(-x/5.) * np.sin(x)\n",
        "\n",
        "def psy_trial(xi, net_out):\n",
        "    return xi + xi**2 * net_out"
      ],
      "execution_count": 0,
      "outputs": []
    },
    {
      "metadata": {
        "id": "aZhj9XUbEQaB",
        "colab_type": "text"
      },
      "cell_type": "markdown",
      "source": [
        "# Build Neural Network"
      ]
    },
    {
      "metadata": {
        "id": "MHFVvdlBGW0E",
        "colab_type": "code",
        "colab": {}
      },
      "cell_type": "code",
      "source": [
        "def loss_function(y_true, y_pred):\n",
        "    return keras.losses.mean_squared_error(y_true, y_pred)"
      ],
      "execution_count": 0,
      "outputs": []
    },
    {
      "metadata": {
        "id": "BeccXgfgAxoc",
        "colab_type": "code",
        "colab": {}
      },
      "cell_type": "code",
      "source": [
        "model = Sequential()\n",
        "model.add(Dense(64, activation='relu'))\n",
        "model.add(Dense(32, activation='relu'))\n",
        "model.add(Dense(1,  activation='tanh'))\n",
        "optimizer = tf.keras.optimizers.Adam()"
      ],
      "execution_count": 0,
      "outputs": []
    },
    {
      "metadata": {
        "id": "cK77FeKFKLJV",
        "colab_type": "code",
        "colab": {}
      },
      "cell_type": "code",
      "source": [
        "x_space = np.linspace(0, 2, 10).astype('float64').reshape(10,1)\n",
        "x_space = tf.constant(x_space)"
      ],
      "execution_count": 0,
      "outputs": []
    },
    {
      "metadata": {
        "id": "yuh8JAAEMbfp",
        "colab_type": "code",
        "colab": {}
      },
      "cell_type": "code",
      "source": [
        "def train_on_batch(x):\n",
        "    with tf.GradientTape() as g:\n",
        "        g.watch(x)\n",
        "        with tf.GradientTape() as gg:\n",
        "            gg.watch(x)\n",
        "            net_out = model(x)\n",
        "            psy_t = psy_trial(x, net_out)\n",
        "\n",
        "        dy_dx = gg.gradient(psy_t, x)     # gradient\n",
        "    d2y_dx2 = g.gradient(dy_dx, x)  # second order gradient\n",
        "\n",
        "    with tf.GradientTape() as g_total:\n",
        "        g_total.watch(x)\n",
        "        net_out = model(x)\n",
        "        psy_t = psy_trial(x, net_out)\n",
        "        func = f(x, psy_t, dy_dx) # right part function\n",
        "        loss = loss_function(d2y_dx2, func)\n",
        "        \n",
        "    grads = g_total.gradient(loss, model.variables)\n",
        "    optimizer.apply_gradients(zip(grads, model.variables))\n",
        "    \n",
        "    return tf.math.reduce_sum(loss)"
      ],
      "execution_count": 0,
      "outputs": []
    },
    {
      "metadata": {
        "id": "hiROuE1-OPM6",
        "colab_type": "code",
        "colab": {
          "base_uri": "https://localhost:8080/",
          "height": 102
        },
        "outputId": "33893d44-b700-43ed-f554-5b1f1449623f"
      },
      "cell_type": "code",
      "source": [
        "for i in range(1000):\n",
        "    loss = train_on_batch(x_space)\n",
        "    if i % 200 == 0:\n",
        "        print(loss)"
      ],
      "execution_count": 413,
      "outputs": [
        {
          "output_type": "stream",
          "text": [
            "tf.Tensor(65.73309163502974, shape=(), dtype=float64)\n",
            "tf.Tensor(0.5750616642745463, shape=(), dtype=float64)\n",
            "tf.Tensor(0.08569718783575456, shape=(), dtype=float64)\n",
            "tf.Tensor(0.019298895367919042, shape=(), dtype=float64)\n",
            "tf.Tensor(0.2901788171353029, shape=(), dtype=float64)\n"
          ],
          "name": "stdout"
        }
      ]
    },
    {
      "metadata": {
        "id": "bdz-03LpTVsm",
        "colab_type": "code",
        "colab": {}
      },
      "cell_type": "code",
      "source": [
        "y_space = psy_analytic(x_space)"
      ],
      "execution_count": 0,
      "outputs": []
    },
    {
      "metadata": {
        "id": "Zh1G3ZaChXSH",
        "colab_type": "code",
        "colab": {
          "base_uri": "https://localhost:8080/",
          "height": 269
        },
        "outputId": "705a3dd8-3d4d-488d-ff59-7dd73defdb59"
      },
      "cell_type": "code",
      "source": [
        "plt.figure()\n",
        "res = [xi + xi**2 * model(np.array(xi).reshape(1,1))[0][0] for xi in x_space] \n",
        "plt.plot(x_space, y_space) \n",
        "plt.plot(x_space, res)\n",
        "plt.show()"
      ],
      "execution_count": 415,
      "outputs": [
        {
          "output_type": "display_data",
          "data": {
            "image/png": "[encoded data removed]",
            "text/plain": [
              "<Figure size 432x288 with 1 Axes>"
            ]
          },
          "metadata": {
            "tags": []
          }
        }
      ]
    },
    {
      "metadata": {
        "id": "1N41aXQoa2cV",
        "colab_type": "code",
        "colab": {}
      },
      "cell_type": "code",
      "source": [
        ""
      ],
      "execution_count": 0,
      "outputs": []
    }
  ]
}

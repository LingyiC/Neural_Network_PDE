{
  "nbformat": 4,
  "nbformat_minor": 0,
  "metadata": {
    "colab": {
      "name": "PDE.ipynb",
      "version": "0.3.2",
      "provenance": [],
      "collapsed_sections": [],
      "include_colab_link": true
    },
    "kernelspec": {
      "name": "python3",
      "display_name": "Python 3"
    }
  },
  "cells": [
    {
      "cell_type": "markdown",
      "metadata": {
        "id": "view-in-github",
        "colab_type": "text"
      },
      "source": [
        "<a href=\"https://colab.research.google.com/github/zw2497/Neural_Network_PDE/blob/master/PDE.ipynb\" target=\"_parent\"><img src=\"https://colab.research.google.com/assets/colab-badge.svg\" alt=\"Open In Colab\"/></a>"
      ]
    },
    {
      "metadata": {
        "id": "ScUDl1svd7h5",
        "colab_type": "code",
        "colab": {
          "base_uri": "https://localhost:8080/",
          "height": 119
        },
        "outputId": "86d345a9-c6c4-4d49-dc10-f2cc34f8ac0e"
      },
      "cell_type": "code",
      "source": [
        "!pip -q install tf-nightly-2.0-preview"
      ],
      "execution_count": 1,
      "outputs": [
        {
          "output_type": "stream",
          "text": [
            "\u001b[K    100% |████████████████████████████████| 86.8MB 295kB/s \n",
            "\u001b[K    100% |████████████████████████████████| 61kB 21.9MB/s \n",
            "\u001b[K    100% |████████████████████████████████| 3.1MB 11.3MB/s \n",
            "\u001b[K    100% |████████████████████████████████| 430kB 20.3MB/s \n",
            "\u001b[?25h  Building wheel for wrapt (setup.py) ... \u001b[?25ldone\n",
            "\u001b[31mthinc 6.12.1 has requirement wrapt<1.11.0,>=1.10.0, but you'll have wrapt 1.11.1 which is incompatible.\u001b[0m\n",
            "\u001b[?25h"
          ],
          "name": "stdout"
        }
      ]
    },
    {
      "metadata": {
        "id": "KKEfaD0Gh2pX",
        "colab_type": "code",
        "colab": {}
      },
      "cell_type": "code",
      "source": [
        "import tensorflow as tf \n",
        "from tensorflow import keras"
      ],
      "execution_count": 0,
      "outputs": []
    },
    {
      "metadata": {
        "id": "T8uV9eVEhXpv",
        "colab_type": "code",
        "colab": {
          "base_uri": "https://localhost:8080/",
          "height": 34
        },
        "outputId": "e2cd03bc-a196-416d-f505-b3740eb4596b"
      },
      "cell_type": "code",
      "source": [
        "import numpy as np\n",
        "from matplotlib import pyplot as plt\n",
        "from mpl_toolkits.mplot3d import Axes3D \n",
        "from matplotlib import cm\n",
        "%matplotlib inline\n",
        "\n",
        "from tensorflow.keras.models import Sequential\n",
        "from tensorflow.keras.layers import Dense, Flatten, Dropout\n",
        "from tensorflow.nn import relu\n",
        "print(\"You have version\", tf.__version__)\n",
        "assert tf.__version__ >= \"2.0\" # TensorFlow ≥ 2.0 required"
      ],
      "execution_count": 267,
      "outputs": [
        {
          "output_type": "stream",
          "text": [
            "You have version 2.0.0-dev20190421\n"
          ],
          "name": "stdout"
        }
      ]
    },
    {
      "metadata": {
        "id": "Bcyh4Wsjha9b",
        "colab_type": "code",
        "colab": {}
      },
      "cell_type": "code",
      "source": [
        "nx = 10\n",
        "ny = 10\n",
        "\n",
        "dx = 1. / nx\n",
        "dy = 1. / ny\n",
        "\n",
        "x_space = np.linspace(0, 1, nx)\n",
        "y_space = np.linspace(0, 1, ny)"
      ],
      "execution_count": 0,
      "outputs": []
    },
    {
      "metadata": {
        "id": "az615G2pjOSH",
        "colab_type": "code",
        "colab": {}
      },
      "cell_type": "code",
      "source": [
        "def f(x):\n",
        "    return 0.\n",
        "\n",
        "def A(x):\n",
        "    return x[1] * np.sin(np.pi * x[0])\n",
        "\n",
        "\n",
        "def psy_trial(x, net_out):\n",
        "    return A(x) + x[0] * (1 - x[0]) * x[1] * (1 - x[1]) * net_out"
      ],
      "execution_count": 0,
      "outputs": []
    },
    {
      "metadata": {
        "id": "hpgFlfYtjYbT",
        "colab_type": "code",
        "colab": {}
      },
      "cell_type": "code",
      "source": [
        "model = Sequential()\n",
        "model.add(Dense(10, input_shape=(1,2),activation='relu'))\n",
        "model.add(Dense(10))\n",
        "model.add(Dense(1, activation='tanh'))\n",
        "optimizer = tf.keras.optimizers.Adam()"
      ],
      "execution_count": 0,
      "outputs": []
    },
    {
      "metadata": {
        "id": "XMTkKy_YxqMK",
        "colab_type": "code",
        "colab": {
          "base_uri": "https://localhost:8080/",
          "height": 255
        },
        "outputId": "4bdb5bdc-1b79-4fc2-829c-165269276c0e"
      },
      "cell_type": "code",
      "source": [
        "model.summary()"
      ],
      "execution_count": 303,
      "outputs": [
        {
          "output_type": "stream",
          "text": [
            "Model: \"sequential_16\"\n",
            "_________________________________________________________________\n",
            "Layer (type)                 Output Shape              Param #   \n",
            "=================================================================\n",
            "dense_32 (Dense)             (None, 1, 10)             30        \n",
            "_________________________________________________________________\n",
            "dense_33 (Dense)             (None, 1, 10)             110       \n",
            "_________________________________________________________________\n",
            "dense_34 (Dense)             (None, 1, 1)              11        \n",
            "=================================================================\n",
            "Total params: 151\n",
            "Trainable params: 151\n",
            "Non-trainable params: 0\n",
            "_________________________________________________________________\n"
          ],
          "name": "stdout"
        }
      ]
    },
    {
      "metadata": {
        "id": "Q3rVAUPzknkn",
        "colab_type": "code",
        "colab": {}
      },
      "cell_type": "code",
      "source": [
        "x_space = np.linspace(0, 2, nx).astype('float32').reshape(10,1)\n",
        "y_space = np.linspace(0, 2, ny).astype('float32').reshape(10,1)\n",
        "xv, yv = np.meshgrid(x_space, y_space)"
      ],
      "execution_count": 0,
      "outputs": []
    },
    {
      "metadata": {
        "id": "79ZHgamJlEyl",
        "colab_type": "code",
        "colab": {}
      },
      "cell_type": "code",
      "source": [
        "x = np.stack((xv.reshape(100), yv.reshape(100)), axis=-1).reshape(100, 1, 2)\n",
        "x = tf.constant(x)"
      ],
      "execution_count": 0,
      "outputs": []
    },
    {
      "metadata": {
        "id": "43-AOREYJuq7",
        "colab_type": "code",
        "colab": {
          "base_uri": "https://localhost:8080/",
          "height": 34
        },
        "outputId": "0c76b3cb-68c9-472a-efd7-4da54d204624"
      },
      "cell_type": "code",
      "source": [
        "model(x[0])"
      ],
      "execution_count": 314,
      "outputs": [
        {
          "output_type": "execute_result",
          "data": {
            "text/plain": [
              "<tf.Tensor: id=9032555, shape=(1, 1), dtype=float32, numpy=array([[0.00392235]], dtype=float32)>"
            ]
          },
          "metadata": {
            "tags": []
          },
          "execution_count": 314
        }
      ]
    },
    {
      "metadata": {
        "id": "JdkW280BoXDo",
        "colab_type": "code",
        "colab": {
          "base_uri": "https://localhost:8080/",
          "height": 34
        },
        "outputId": "1fcc580d-29bd-4e2c-9920-c009cee24007"
      },
      "cell_type": "code",
      "source": [
        "net_out = model(x[0])\n",
        "psy_trial(x[0][0], net_out[0][0])"
      ],
      "execution_count": 315,
      "outputs": [
        {
          "output_type": "execute_result",
          "data": {
            "text/plain": [
              "<tf.Tensor: id=9032628, shape=(), dtype=float32, numpy=0.0>"
            ]
          },
          "metadata": {
            "tags": []
          },
          "execution_count": 315
        }
      ]
    },
    {
      "metadata": {
        "id": "Yof4gYDs1T__",
        "colab_type": "code",
        "colab": {}
      },
      "cell_type": "code",
      "source": [
        "def loss_function(y_true, y_pred):\n",
        "    return keras.losses.mean_squared_error(y_true, y_pred)"
      ],
      "execution_count": 0,
      "outputs": []
    },
    {
      "metadata": {
        "id": "pLV9-C3a2sCK",
        "colab_type": "code",
        "colab": {
          "base_uri": "https://localhost:8080/",
          "height": 34
        },
        "outputId": "486a548e-1609-40e4-d9cc-ad07f3aa00b6"
      },
      "cell_type": "code",
      "source": [
        "loss_function([0], [0])"
      ],
      "execution_count": 207,
      "outputs": [
        {
          "output_type": "execute_result",
          "data": {
            "text/plain": [
              "<tf.Tensor: id=6392327, shape=(), dtype=int32, numpy=0>"
            ]
          },
          "metadata": {
            "tags": []
          },
          "execution_count": 207
        }
      ]
    },
    {
      "metadata": {
        "id": "PYymKwg0jjtQ",
        "colab_type": "code",
        "colab": {}
      },
      "cell_type": "code",
      "source": [
        "# @tf.function\n",
        "def train_on_batch(x):\n",
        "    with tf.GradientTape() as g_total:\n",
        "        g_total.watch(x)\n",
        "        with tf.GradientTape() as g:\n",
        "            g.watch(x)\n",
        "            with tf.GradientTape() as gg:\n",
        "                gg.watch(x)\n",
        "                net_out = model(x)\n",
        "                psy_t = psy_trial(x[0], net_out[0][0])\n",
        "\n",
        "            dy_dx = gg.gradient(psy_t, x)\n",
        "        d2y_dx2 = g.gradient(dy_dx, x)  # second order gradient\n",
        "\n",
        "        func = f(x) # right part function\n",
        "        loss = loss_function([d2y_dx2[0][0] + d2y_dx2[0][1]], [func])\n",
        "        \n",
        "    grads = g_total.gradient(loss, model.trainable_variables)\n",
        "    optimizer.apply_gradients(zip(grads, model.trainable_variables))\n",
        "    \n",
        "    return loss"
      ],
      "execution_count": 0,
      "outputs": []
    },
    {
      "metadata": {
        "id": "iBKJPrA0B0dj",
        "colab_type": "text"
      },
      "cell_type": "markdown",
      "source": [
        "# Test Gradient"
      ]
    },
    {
      "metadata": {
        "id": "3eS8951KAkBB",
        "colab_type": "code",
        "colab": {
          "base_uri": "https://localhost:8080/",
          "height": 68
        },
        "outputId": "71962198-3dca-4eb0-e695-0d6b2faff6b0"
      },
      "cell_type": "code",
      "source": [
        "x_test = x[28]\n",
        "print(x_test)\n",
        "with tf.GradientTape() as gg:\n",
        "    gg.watch(x_test)\n",
        "    net_out = model(x_test)\n",
        "    psy_t = psy_trial(x_test[0], net_out[0][0])\n",
        "    print(net_out, psy_t)\n",
        "dy_dx = gg.jacobian(psy_t, x_test)\n",
        "print(dy_dx)\n",
        "\n",
        "\n",
        "# with tf.GradientTape() as g:\n",
        "#     g.watch(x_test)\n",
        "#     with tf.GradientTape() as gg:\n",
        "#         gg.watch(x_test)\n",
        "#         psy_t = psy_trial(x_test[0], net_out[0][0])\n",
        "#     dy_dx = gg.jacobian(psy_t, x_test)\n",
        "#     print(dy_dx)\n",
        "# d2y_dx2 = g.jacobian(dy_dx, x_test)"
      ],
      "execution_count": 331,
      "outputs": [
        {
          "output_type": "stream",
          "text": [
            "tf.Tensor([[1.7777778  0.44444445]], shape=(1, 2), dtype=float32)\n",
            "tf.Tensor([[-0.25910726]], shape=(1, 1), dtype=float32) tf.Tensor(-0.19722113, shape=(), dtype=float32)\n",
            "tf.Tensor([[ 0.23248413 -0.696623  ]], shape=(1, 2), dtype=float32)\n"
          ],
          "name": "stdout"
        }
      ]
    },
    {
      "metadata": {
        "id": "GIllu8GPBe_u",
        "colab_type": "code",
        "colab": {
          "base_uri": "https://localhost:8080/",
          "height": 34
        },
        "outputId": "c4697a78-f5d2-4c95-f84e-878a90c8bc15"
      },
      "cell_type": "code",
      "source": [
        "train_on_batch(x[10])"
      ],
      "execution_count": 318,
      "outputs": [
        {
          "output_type": "execute_result",
          "data": {
            "text/plain": [
              "<tf.Tensor: id=9033517, shape=(), dtype=float32, numpy=1.5907348e-06>"
            ]
          },
          "metadata": {
            "tags": []
          },
          "execution_count": 318
        }
      ]
    },
    {
      "metadata": {
        "id": "vHjuIQiZkjke",
        "colab_type": "code",
        "colab": {
          "base_uri": "https://localhost:8080/",
          "height": 357
        },
        "outputId": "b28db71f-43c8-45b6-a92c-7fc863849088"
      },
      "cell_type": "code",
      "source": [
        "for i in range(20):\n",
        "    for xi in x:\n",
        "        loss = train_on_batch(xi)\n",
        "    print(loss)"
      ],
      "execution_count": 309,
      "outputs": [
        {
          "output_type": "stream",
          "text": [
            "tf.Tensor(0.019801216, shape=(), dtype=float32)\n",
            "tf.Tensor(28.534529, shape=(), dtype=float32)\n",
            "tf.Tensor(0.008407898, shape=(), dtype=float32)\n",
            "tf.Tensor(0.54011023, shape=(), dtype=float32)\n",
            "tf.Tensor(0.1579932, shape=(), dtype=float32)\n",
            "tf.Tensor(0.0638818, shape=(), dtype=float32)\n",
            "tf.Tensor(0.006187341, shape=(), dtype=float32)\n",
            "tf.Tensor(0.0030072327, shape=(), dtype=float32)\n",
            "tf.Tensor(0.032493733, shape=(), dtype=float32)\n",
            "tf.Tensor(0.09007988, shape=(), dtype=float32)\n",
            "tf.Tensor(0.20493136, shape=(), dtype=float32)\n",
            "tf.Tensor(0.30786103, shape=(), dtype=float32)\n",
            "tf.Tensor(0.37930232, shape=(), dtype=float32)\n",
            "tf.Tensor(0.42226583, shape=(), dtype=float32)\n",
            "tf.Tensor(0.8440333, shape=(), dtype=float32)\n",
            "tf.Tensor(0.99586964, shape=(), dtype=float32)\n",
            "tf.Tensor(0.5497012, shape=(), dtype=float32)\n",
            "tf.Tensor(0.23745961, shape=(), dtype=float32)\n",
            "tf.Tensor(0.014694546, shape=(), dtype=float32)\n",
            "tf.Tensor(0.0005127446, shape=(), dtype=float32)\n"
          ],
          "name": "stdout"
        }
      ]
    },
    {
      "metadata": {
        "id": "zXGMkfU_hkIr",
        "colab_type": "code",
        "colab": {
          "base_uri": "https://localhost:8080/",
          "height": 479
        },
        "outputId": "42eb5db4-3af2-4e10-91c2-34099570360c"
      },
      "cell_type": "code",
      "source": [
        "x_space = np.linspace(0, 1, nx)\n",
        "y_space = np.linspace(0, 1, ny)\n",
        "def analytic_solution(x):\n",
        "    return (1 / (np.exp(np.pi) - np.exp(-np.pi))) * \\\n",
        "    \t\tnp.sin(np.pi * x[0]) * (np.exp(np.pi * x[1]) - np.exp(-np.pi * x[1]))\n",
        "surface = np.zeros((ny, nx))\n",
        "\n",
        "for i, x in enumerate(x_space):\n",
        "    for j, y in enumerate(y_space):\n",
        "        surface[i][j] = analytic_solution([x, y])\n",
        "        \n",
        "fig = plt.figure()\n",
        "ax = fig.gca(projection='3d')\n",
        "X, Y = np.meshgrid(x_space, y_space)\n",
        "surf = ax.plot_surface(X, Y, surface, rstride=1, cstride=1, cmap=cm.viridis,\n",
        "        linewidth=0, antialiased=False)\n",
        "\n",
        "ax.set_xlim(0, 1)\n",
        "ax.set_ylim(0, 1)\n",
        "ax.set_zlim(0, 1)\n",
        "\n",
        "ax.set_xlabel('$x$')\n",
        "ax.set_ylabel('$y$');\n",
        "\n",
        "\n",
        "x_space = np.linspace(0, 1, nx)\n",
        "y_space = np.linspace(0, 1, ny)\n",
        "\n",
        "\n",
        "surface1 = np.zeros((ny, nx))\n",
        "\n",
        "for i, x in enumerate(x_space):\n",
        "    for j, y in enumerate(y_space):\n",
        "        surface1[i][j] = psy_trial((x,y), model(np.array([x,y]).reshape(1,2))[0][0].numpy())\n",
        "        \n",
        "fig = plt.figure()\n",
        "ax = fig.gca(projection='3d')\n",
        "X, Y = np.meshgrid(x_space, y_space)\n",
        "surf = ax.plot_surface(X, Y, surface1, rstride=1, cstride=1, cmap=cm.viridis,\n",
        "        linewidth=0, antialiased=False)\n",
        "\n",
        "ax.set_xlim(0, 1)\n",
        "ax.set_ylim(0, 1)\n",
        "ax.set_zlim(0, 1)\n",
        "\n",
        "ax.set_xlabel('$x$')\n",
        "ax.set_ylabel('$y$');"
      ],
      "execution_count": 280,
      "outputs": [
        {
          "output_type": "display_data",
          "data": {
            "image/png": "[encoded data removed]",
            "text/plain": [
              "<Figure size 432x288 with 1 Axes>"
            ]
          },
          "metadata": {
            "tags": []
          }
        },
        {
          "output_type": "display_data",
          "data": {
            "image/png": "[encoded data removed]",
            "text/plain": [
              "<Figure size 432x288 with 1 Axes>"
            ]
          },
          "metadata": {
            "tags": []
          }
        }
      ]
    },
    {
      "metadata": {
        "id": "xfLk71Kl5ubO",
        "colab_type": "code",
        "colab": {
          "base_uri": "https://localhost:8080/",
          "height": 1717
        },
        "outputId": "bf04af6d-bdd6-4af2-e13d-88dff6deff01"
      },
      "cell_type": "code",
      "source": [
        "for i, x in enumerate(x_space):\n",
        "    for j, y in enumerate(y_space):\n",
        "        print(model(np.array([x,y]).reshape(1,2))[0][0].numpy())"
      ],
      "execution_count": 310,
      "outputs": [
        {
          "output_type": "stream",
          "text": [
            "0.0039223465\n",
            "0.002132914\n",
            "-0.0005591796\n",
            "-0.0020788752\n",
            "-0.002119619\n",
            "-0.0021604227\n",
            "-0.0022012165\n",
            "-0.002241992\n",
            "-0.0022825773\n",
            "-0.0023235024\n",
            "-0.028497154\n",
            "0.0029646715\n",
            "0.00027257882\n",
            "-0.0013597829\n",
            "-0.0014005691\n",
            "-0.0014412929\n",
            "-0.0014821332\n",
            "-0.0015229987\n",
            "-0.0015636288\n",
            "-0.0016045535\n",
            "-0.06969417\n",
            "-0.04218352\n",
            "0.001104321\n",
            "-0.0006408017\n",
            "-0.00068152376\n",
            "-0.00072230253\n",
            "-0.00076313264\n",
            "-0.00080377655\n",
            "-0.00084466016\n",
            "-0.00088536495\n",
            "-0.11065483\n",
            "-0.090128355\n",
            "-0.025138006\n",
            "-0.00017097282\n",
            "3.749813e-05\n",
            "-3.1634115e-06\n",
            "-4.399911e-05\n",
            "-8.469511e-05\n",
            "-0.00012549634\n",
            "-0.00016629479\n",
            "-0.15124299\n",
            "-0.13765898\n",
            "-0.073177256\n",
            "-0.0073563065\n",
            "4.347815e-05\n",
            "0.00071582495\n",
            "0.0006750227\n",
            "0.00063422153\n",
            "0.0005935143\n",
            "0.00055268616\n",
            "-0.1913275\n",
            "-0.18456404\n",
            "-0.120879315\n",
            "-0.055576846\n",
            "-0.0064964877\n",
            "0.00025786672\n",
            "0.0013941883\n",
            "0.0013534131\n",
            "0.001312623\n",
            "0.0012718899\n",
            "-0.23078379\n",
            "-0.23064311\n",
            "-0.1680296\n",
            "-0.10353942\n",
            "-0.03601464\n",
            "-0.006282054\n",
            "0.00047232042\n",
            "0.0020724495\n",
            "0.0020316439\n",
            "0.0019908028\n",
            "-0.26949546\n",
            "-0.2757104\n",
            "-0.2144234\n",
            "-0.15102538\n",
            "-0.08410881\n",
            "-0.016424874\n",
            "-0.006067627\n",
            "0.0006867611\n",
            "0.0027507704\n",
            "0.0027099864\n",
            "-0.30735528\n",
            "-0.31959733\n",
            "-0.25986946\n",
            "-0.19782437\n",
            "-0.13181418\n",
            "-0.06461392\n",
            "-0.012607048\n",
            "-0.0058532236\n",
            "0.0009011477\n",
            "0.0034289653\n",
            "-0.34426647\n",
            "-0.36215466\n",
            "-0.3041927\n",
            "-0.24373858\n",
            "-0.17891678\n",
            "-0.1125035\n",
            "-0.045069616\n",
            "-0.012392708\n",
            "-0.0056387214\n",
            "0.001115538\n"
          ],
          "name": "stdout"
        }
      ]
    },
    {
      "metadata": {
        "id": "47XniA8BXKNE",
        "colab_type": "code",
        "colab": {}
      },
      "cell_type": "code",
      "source": [
        ""
      ],
      "execution_count": 0,
      "outputs": []
    }
  ]
}
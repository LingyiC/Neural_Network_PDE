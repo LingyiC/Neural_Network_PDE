{
  "nbformat": 4,
  "nbformat_minor": 0,
  "metadata": {
    "colab": {
      "name": "ODE2_Mid.ipynb",
      "version": "0.3.2",
      "provenance": [],
      "collapsed_sections": [],
      "include_colab_link": true
    },
    "kernelspec": {
      "name": "python3",
      "display_name": "Python 3"
    }
  },
  "cells": [
    {
      "cell_type": "markdown",
      "metadata": {
        "id": "view-in-github",
        "colab_type": "text"
      },
      "source": [
        "<a href=\"https://colab.research.google.com/github/zw2497/Neural_Network_PDE/blob/master/ODE2_Mid.ipynb\" target=\"_parent\"><img src=\"https://colab.research.google.com/assets/colab-badge.svg\" alt=\"Open In Colab\"/></a>"
      ]
    },
    {
      "metadata": {
        "id": "_JIClNsbFUy-",
        "colab_type": "code",
        "colab": {}
      },
      "cell_type": "code",
      "source": [
        "!pip -q install tf-nightly-2.0-preview"
      ],
      "execution_count": 0,
      "outputs": []
    },
    {
      "metadata": {
        "id": "nj1JPizsAmTm",
        "colab_type": "code",
        "colab": {}
      },
      "cell_type": "code",
      "source": [
        "import tensorflow as tf \n",
        "import numpy as np\n",
        "from matplotlib import pyplot as plt\n",
        "from tensorflow import keras\n",
        "import time\n",
        "%matplotlib inline"
      ],
      "execution_count": 0,
      "outputs": []
    },
    {
      "metadata": {
        "id": "M6wwR-2FMcsf",
        "colab_type": "code",
        "colab": {}
      },
      "cell_type": "code",
      "source": [
        "from tensorflow.keras.models import Sequential\n",
        "from tensorflow.keras.layers import Dense, Flatten, Dropout\n",
        "from tensorflow.nn import relu"
      ],
      "execution_count": 0,
      "outputs": []
    },
    {
      "metadata": {
        "id": "Dfe18-GyFWJr",
        "colab_type": "code",
        "outputId": "212d3bd4-2f19-48bf-d68f-1a9469deed61",
        "colab": {
          "base_uri": "https://localhost:8080/",
          "height": 34
        }
      },
      "cell_type": "code",
      "source": [
        "print(\"You have version\", tf.__version__)\n",
        "assert tf.__version__ >= \"2.0\" # TensorFlow ≥ 2.0 required"
      ],
      "execution_count": 15,
      "outputs": [
        {
          "output_type": "stream",
          "text": [
            "You have version 2.0.0-dev20190427\n"
          ],
          "name": "stdout"
        }
      ]
    },
    {
      "metadata": {
        "id": "ECHZ5vGkGCrt",
        "colab_type": "text"
      },
      "cell_type": "markdown",
      "source": [
        "# Build Function"
      ]
    },
    {
      "metadata": {
        "id": "1QusUQWPxCho",
        "colab_type": "code",
        "colab": {}
      },
      "cell_type": "code",
      "source": [
        "def f(x):\n",
        "    '''\n",
        "        d2(psy)/dx2 = f(x, dpsy/dx, psy)\n",
        "        This is f() function on the right\n",
        "    '''\n",
        "    return tf.math.sin(x) + tf.math.sin(4*x) / 4 + tf.math.sin(8*x) / 8 + tf.math.sin(24*x) / 36\n",
        "\n",
        "def psy_trial(xi, net_out):\n",
        "    return (tf.constant(-1, dtype='float32') - xi) * (tf.constant(1,dtype='float32') - xi) * net_out"
      ],
      "execution_count": 0,
      "outputs": []
    },
    {
      "metadata": {
        "id": "aZhj9XUbEQaB",
        "colab_type": "text"
      },
      "cell_type": "markdown",
      "source": [
        "# Build Neural Network"
      ]
    },
    {
      "metadata": {
        "id": "BeccXgfgAxoc",
        "colab_type": "code",
        "colab": {}
      },
      "cell_type": "code",
      "source": [
        "model = Sequential()\n",
        "model.add(Dense(64, input_shape=(None, 1), activation='relu'))\n",
        "model.add(Dense(32, activation='relu'))\n",
        "model.add(Dense(1,  activation='tanh'))\n",
        "optimizer = tf.keras.optimizers.Adam()"
      ],
      "execution_count": 0,
      "outputs": []
    },
    {
      "metadata": {
        "id": "ErXXkG8oGG6v",
        "colab_type": "text"
      },
      "cell_type": "markdown",
      "source": [
        "# Prepare Dataset"
      ]
    },
    {
      "metadata": {
        "id": "cK77FeKFKLJV",
        "colab_type": "code",
        "colab": {}
      },
      "cell_type": "code",
      "source": [
        "nx = 100\n",
        "x_space = np.linspace(-1, 1, nx).astype('float32').reshape(nx,1)\n",
        "x_space = tf.constant(x_space)\n",
        "batch_size = 10\n",
        "dataset = tf.data.Dataset.from_tensor_slices(x_space).batch(batch_size, drop_remainder=True)"
      ],
      "execution_count": 0,
      "outputs": []
    },
    {
      "metadata": {
        "id": "a9u4EJweGI7E",
        "colab_type": "text"
      },
      "cell_type": "markdown",
      "source": [
        "# Train"
      ]
    },
    {
      "metadata": {
        "id": "MHFVvdlBGW0E",
        "colab_type": "code",
        "colab": {}
      },
      "cell_type": "code",
      "source": [
        "def loss_function(y_true, y_pred):\n",
        "    return tf.reduce_sum(keras.losses.mean_squared_error(y_true, y_pred),0)"
      ],
      "execution_count": 0,
      "outputs": []
    },
    {
      "metadata": {
        "id": "yuh8JAAEMbfp",
        "colab_type": "code",
        "colab": {}
      },
      "cell_type": "code",
      "source": [
        "def train_on_batch(x):\n",
        "    with tf.GradientTape() as g_total:\n",
        "        g_total.watch(model.variables)\n",
        "        with tf.GradientTape() as g:\n",
        "            g.watch(x)\n",
        "            with tf.GradientTape() as gg:\n",
        "                gg.watch(x)\n",
        "                net_out = model(x)\n",
        "                psy_t = psy_trial(x, net_out)\n",
        "\n",
        "            dy_dx = gg.gradient(psy_t, x)     # gradient\n",
        "        d2y_dx2 = g.gradient(dy_dx, x)  # second order gradient\n",
        "        func = f(x) # right part function\n",
        "        loss = loss_function(d2y_dx2, func)\n",
        "\n",
        "    grads = g_total.gradient(loss, model.variables)\n",
        "    optimizer.apply_gradients(zip(grads, model.variables))\n",
        "    return tf.math.reduce_sum(loss)"
      ],
      "execution_count": 0,
      "outputs": []
    },
    {
      "metadata": {
        "id": "beTESkaZES0-",
        "colab_type": "code",
        "colab": {
          "base_uri": "https://localhost:8080/",
          "height": 697
        },
        "outputId": "8ae4da34-46f0-4738-e7ac-873da8732160"
      },
      "cell_type": "code",
      "source": [
        "for epoch in range(40):\n",
        "    for batch, source_data in enumerate(dataset):\n",
        "        start = time.time()\n",
        "        loss = train_on_batch(source_data)\n",
        "    print(\"Epoch #%d, Loss %.4f, Time %.2f sec\" % (epoch, loss, time.time() - start))\n"
      ],
      "execution_count": 21,
      "outputs": [
        {
          "output_type": "stream",
          "text": [
            "Epoch #0, Loss 0.8575, Time 0.01 sec\n",
            "Epoch #1, Loss 2.8482, Time 0.01 sec\n",
            "Epoch #2, Loss 0.9895, Time 0.01 sec\n",
            "Epoch #3, Loss 0.0388, Time 0.01 sec\n",
            "Epoch #4, Loss 0.0316, Time 0.01 sec\n",
            "Epoch #5, Loss 0.2132, Time 0.01 sec\n",
            "Epoch #6, Loss 0.2417, Time 0.01 sec\n",
            "Epoch #7, Loss 0.1137, Time 0.01 sec\n",
            "Epoch #8, Loss 0.0913, Time 0.01 sec\n",
            "Epoch #9, Loss 0.1090, Time 0.01 sec\n",
            "Epoch #10, Loss 0.0938, Time 0.01 sec\n",
            "Epoch #11, Loss 0.0707, Time 0.01 sec\n",
            "Epoch #12, Loss 0.0605, Time 0.01 sec\n",
            "Epoch #13, Loss 0.0530, Time 0.01 sec\n",
            "Epoch #14, Loss 0.0421, Time 0.01 sec\n",
            "Epoch #15, Loss 0.0343, Time 0.01 sec\n",
            "Epoch #16, Loss 0.0329, Time 0.01 sec\n",
            "Epoch #17, Loss 0.0256, Time 0.01 sec\n",
            "Epoch #18, Loss 0.0226, Time 0.01 sec\n",
            "Epoch #19, Loss 0.0209, Time 0.01 sec\n",
            "Epoch #20, Loss 0.0180, Time 0.01 sec\n",
            "Epoch #21, Loss 0.0159, Time 0.01 sec\n",
            "Epoch #22, Loss 0.0157, Time 0.01 sec\n",
            "Epoch #23, Loss 0.0162, Time 0.01 sec\n",
            "Epoch #24, Loss 0.0179, Time 0.01 sec\n",
            "Epoch #25, Loss 0.0164, Time 0.01 sec\n",
            "Epoch #26, Loss 0.0158, Time 0.01 sec\n",
            "Epoch #27, Loss 0.0141, Time 0.01 sec\n",
            "Epoch #28, Loss 0.0078, Time 0.01 sec\n",
            "Epoch #29, Loss 0.0471, Time 0.01 sec\n",
            "Epoch #30, Loss 0.0167, Time 0.01 sec\n",
            "Epoch #31, Loss 0.0240, Time 0.01 sec\n",
            "Epoch #32, Loss 0.0157, Time 0.01 sec\n",
            "Epoch #33, Loss 0.0169, Time 0.01 sec\n",
            "Epoch #34, Loss 0.0098, Time 0.01 sec\n",
            "Epoch #35, Loss 0.0061, Time 0.01 sec\n",
            "Epoch #36, Loss 0.1338, Time 0.01 sec\n",
            "Epoch #37, Loss 0.1194, Time 0.01 sec\n",
            "Epoch #38, Loss 0.0571, Time 0.01 sec\n",
            "Epoch #39, Loss 0.0441, Time 0.01 sec\n"
          ],
          "name": "stdout"
        }
      ]
    },
    {
      "metadata": {
        "id": "Zh1G3ZaChXSH",
        "colab_type": "code",
        "outputId": "52912d21-b0f6-4fe1-c63a-b14ea5d82b87",
        "colab": {
          "base_uri": "https://localhost:8080/",
          "height": 269
        }
      },
      "cell_type": "code",
      "source": [
        "plt.figure()\n",
        "res = psy_trial(x_space, model(x_space)).numpy().reshape(nx)\n",
        "plt.plot(x_space, res)\n",
        "plt.show()"
      ],
      "execution_count": 22,
      "outputs": [
        {
          "output_type": "display_data",
          "data": {
            "image/png": "[encoded data removed]",
            "text/plain": [
              "<Figure size 432x288 with 1 Axes>"
            ]
          },
          "metadata": {
            "tags": []
          }
        }
      ]
    },
    {
      "metadata": {
        "id": "1N41aXQoa2cV",
        "colab_type": "code",
        "colab": {}
      },
      "cell_type": "code",
      "source": [
        ""
      ],
      "execution_count": 0,
      "outputs": []
    }
  ]
}
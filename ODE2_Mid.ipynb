{
  "nbformat": 4,
  "nbformat_minor": 0,
  "metadata": {
    "colab": {
      "name": "ODE2_Mid.ipynb",
      "version": "0.3.2",
      "provenance": [],
      "collapsed_sections": [],
      "include_colab_link": true
    },
    "kernelspec": {
      "name": "python3",
      "display_name": "Python 3"
    },
    "accelerator": "GPU"
  },
  "cells": [
    {
      "cell_type": "markdown",
      "metadata": {
        "id": "view-in-github",
        "colab_type": "text"
      },
      "source": [
        "<a href=\"https://colab.research.google.com/github/zw2497/Neural_Network_PDE/blob/master/ODE2_Mid.ipynb\" target=\"_parent\"><img src=\"https://colab.research.google.com/assets/colab-badge.svg\" alt=\"Open In Colab\"/></a>"
      ]
    },
    {
      "metadata": {
        "id": "_JIClNsbFUy-",
        "colab_type": "code",
        "colab": {}
      },
      "cell_type": "code",
      "source": [
        "!pip -q install tf-nightly-2.0-preview"
      ],
      "execution_count": 0,
      "outputs": []
    },
    {
      "metadata": {
        "id": "nj1JPizsAmTm",
        "colab_type": "code",
        "colab": {}
      },
      "cell_type": "code",
      "source": [
        "import tensorflow as tf \n",
        "import numpy as np\n",
        "from matplotlib import pyplot as plt\n",
        "from tensorflow import keras\n",
        "from tensorflow.math import sin\n",
        "import time\n",
        "%matplotlib inline"
      ],
      "execution_count": 0,
      "outputs": []
    },
    {
      "metadata": {
        "id": "M6wwR-2FMcsf",
        "colab_type": "code",
        "colab": {}
      },
      "cell_type": "code",
      "source": [
        "from tensorflow.keras.models import Sequential\n",
        "from tensorflow.keras.layers import Dense, Flatten, Dropout\n",
        "from tensorflow.nn import relu"
      ],
      "execution_count": 0,
      "outputs": []
    },
    {
      "metadata": {
        "id": "Dfe18-GyFWJr",
        "colab_type": "code",
        "outputId": "73db0ee0-d173-4937-aa2e-b0a58cfcb920",
        "colab": {
          "base_uri": "https://localhost:8080/",
          "height": 34
        }
      },
      "cell_type": "code",
      "source": [
        "print(\"You have version\", tf.__version__)\n",
        "assert tf.__version__ >= \"2.0\" # TensorFlow ≥ 2.0 required"
      ],
      "execution_count": 4,
      "outputs": [
        {
          "output_type": "stream",
          "text": [
            "You have version 2.0.0-dev20190427\n"
          ],
          "name": "stdout"
        }
      ]
    },
    {
      "metadata": {
        "id": "ECHZ5vGkGCrt",
        "colab_type": "text"
      },
      "cell_type": "markdown",
      "source": [
        "# Build Function"
      ]
    },
    {
      "metadata": {
        "id": "1QusUQWPxCho",
        "colab_type": "code",
        "colab": {}
      },
      "cell_type": "code",
      "source": [
        "def f(x):\n",
        "    return sin(x) + 4 * sin(4*x) - 8 * sin(8*x) + 16 * sin(24*x)\n",
        "\n",
        "def psy_trial(x, net_out):\n",
        "    return (-1. - x) * (1. - x) * net_out"
      ],
      "execution_count": 0,
      "outputs": []
    },
    {
      "metadata": {
        "id": "aZhj9XUbEQaB",
        "colab_type": "text"
      },
      "cell_type": "markdown",
      "source": [
        "# Build Neural Network"
      ]
    },
    {
      "metadata": {
        "id": "BeccXgfgAxoc",
        "colab_type": "code",
        "colab": {}
      },
      "cell_type": "code",
      "source": [
        "model = Sequential()\n",
        "model.add(Dense(128, input_shape=(None, 1), activation='tanh'))\n",
        "model.add(Dense(64, activation='tanh'))\n",
        "model.add(Dense(32, activation='tanh'))\n",
        "model.add(Dense(1))\n",
        "optimizer = tf.keras.optimizers.Adam(0.0005)"
      ],
      "execution_count": 0,
      "outputs": []
    },
    {
      "metadata": {
        "id": "ErXXkG8oGG6v",
        "colab_type": "text"
      },
      "cell_type": "markdown",
      "source": [
        "# Prepare Dataset"
      ]
    },
    {
      "metadata": {
        "id": "cK77FeKFKLJV",
        "colab_type": "code",
        "colab": {}
      },
      "cell_type": "code",
      "source": [
        "nx = 100\n",
        "x_space = np.linspace(-1, 1, nx).astype('float32').reshape(nx,1)\n",
        "x_space = tf.constant(x_space)\n",
        "\n",
        "batch_size = 16\n",
        "dataset = tf.data.Dataset.from_tensor_slices(x_space).batch(batch_size, drop_remainder=True)"
      ],
      "execution_count": 0,
      "outputs": []
    },
    {
      "metadata": {
        "id": "ahXGvL_NINqX",
        "colab_type": "code",
        "colab": {
          "base_uri": "https://localhost:8080/",
          "height": 34
        },
        "outputId": "20a6bece-fc13-450a-c1c7-2bfcf70b6bc7"
      },
      "cell_type": "code",
      "source": [
        "example_batch = next(iter(dataset))\n",
        "source = example_batch\n",
        "print(\"Shapes:\", source.shape)"
      ],
      "execution_count": 8,
      "outputs": [
        {
          "output_type": "stream",
          "text": [
            "Shapes: (16, 1)\n"
          ],
          "name": "stdout"
        }
      ]
    },
    {
      "metadata": {
        "id": "a9u4EJweGI7E",
        "colab_type": "text"
      },
      "cell_type": "markdown",
      "source": [
        "# Train"
      ]
    },
    {
      "metadata": {
        "id": "MHFVvdlBGW0E",
        "colab_type": "code",
        "colab": {}
      },
      "cell_type": "code",
      "source": [
        "def loss_function(y_true, y_pred):\n",
        "    return keras.losses.mean_squared_error(y_true, y_pred)"
      ],
      "execution_count": 0,
      "outputs": []
    },
    {
      "metadata": {
        "id": "yuh8JAAEMbfp",
        "colab_type": "code",
        "colab": {}
      },
      "cell_type": "code",
      "source": [
        "@tf.function\n",
        "def train_on_batch(x):\n",
        "    with tf.GradientTape() as g_total:\n",
        "        with tf.GradientTape() as g:\n",
        "            g.watch(x)\n",
        "            with tf.GradientTape() as gg:\n",
        "                gg.watch(x)\n",
        "                net_out = model(x)\n",
        "                psy_t = psy_trial(x, net_out)\n",
        "\n",
        "            dy_dx = gg.gradient(psy_t, x)     # gradient\n",
        "        d2y_dx2 = g.gradient(dy_dx, x)  # second order gradient\n",
        "        \n",
        "        func = f(x) # right part function\n",
        "        loss = loss_function(-d2y_dx2, func)\n",
        "#         print(d2y_dx2)\n",
        "\n",
        "    grads = g_total.gradient(loss, model.variables)\n",
        "    optimizer.apply_gradients(zip(grads, model.variables))\n",
        "    return tf.math.reduce_sum(loss)"
      ],
      "execution_count": 0,
      "outputs": []
    },
    {
      "metadata": {
        "id": "beTESkaZES0-",
        "colab_type": "code",
        "colab": {
          "base_uri": "https://localhost:8080/",
          "height": 187
        },
        "outputId": "eff3919a-6fff-4335-9663-f9d5d1753d58"
      },
      "cell_type": "code",
      "source": [
        "for epoch in range(1000):\n",
        "    for batch, source_data in enumerate(dataset):\n",
        "        start = time.time()\n",
        "        loss = train_on_batch(source_data)\n",
        "    if epoch % 100 == 0:\n",
        "        print(\"Epoch #%d, Loss %.6f, Time %.2f sec\" % (epoch, loss, time.time() - start))"
      ],
      "execution_count": 13,
      "outputs": [
        {
          "output_type": "stream",
          "text": [
            "Epoch #0, Loss 62.848869, Time 0.00 sec\n",
            "Epoch #100, Loss 54.235626, Time 0.00 sec\n",
            "Epoch #200, Loss 49.394997, Time 0.00 sec\n",
            "Epoch #300, Loss 46.321983, Time 0.00 sec\n",
            "Epoch #400, Loss 44.347412, Time 0.00 sec\n",
            "Epoch #500, Loss 42.891472, Time 0.00 sec\n",
            "Epoch #600, Loss 41.580025, Time 0.00 sec\n",
            "Epoch #700, Loss 40.401520, Time 0.00 sec\n",
            "Epoch #800, Loss 39.327656, Time 0.00 sec\n",
            "Epoch #900, Loss 38.350533, Time 0.00 sec\n"
          ],
          "name": "stdout"
        }
      ]
    },
    {
      "metadata": {
        "id": "Zh1G3ZaChXSH",
        "colab_type": "code",
        "outputId": "a04ac6ab-accd-4428-bf47-87b26509d1ca",
        "colab": {
          "base_uri": "https://localhost:8080/",
          "height": 269
        }
      },
      "cell_type": "code",
      "source": [
        "plt.figure()\n",
        "res = psy_trial(x_space, model(x_space)).numpy().reshape(nx)\n",
        "plt.plot(x_space, res)\n",
        "plt.show()"
      ],
      "execution_count": 14,
      "outputs": [
        {
          "output_type": "display_data",
          "data": {
            "image/png": "[encoded data removed]",
            "text/plain": [
              "<Figure size 432x288 with 1 Axes>"
            ]
          },
          "metadata": {
            "tags": []
          }
        }
      ]
    },
    {
      "metadata": {
        "id": "1N41aXQoa2cV",
        "colab_type": "code",
        "colab": {}
      },
      "cell_type": "code",
      "source": [
        ""
      ],
      "execution_count": 0,
      "outputs": []
    }
  ]
}
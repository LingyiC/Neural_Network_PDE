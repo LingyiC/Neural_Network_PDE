{
  "nbformat": 4,
  "nbformat_minor": 0,
  "metadata": {
    "colab": {
      "name": "ODE2_Mid.ipynb",
      "version": "0.3.2",
      "provenance": [],
      "collapsed_sections": [],
      "include_colab_link": true
    },
    "kernelspec": {
      "name": "python3",
      "display_name": "Python 3"
    }
  },
  "cells": [
    {
      "cell_type": "markdown",
      "metadata": {
        "id": "view-in-github",
        "colab_type": "text"
      },
      "source": [
        "<a href=\"https://colab.research.google.com/github/zw2497/Neural_Network_PDE/blob/master/ODE2_Mid.ipynb\" target=\"_parent\"><img src=\"https://colab.research.google.com/assets/colab-badge.svg\" alt=\"Open In Colab\"/></a>"
      ]
    },
    {
      "metadata": {
        "id": "_JIClNsbFUy-",
        "colab_type": "code",
        "colab": {}
      },
      "cell_type": "code",
      "source": [
        "!pip -q install tf-nightly-2.0-preview"
      ],
      "execution_count": 0,
      "outputs": []
    },
    {
      "metadata": {
        "id": "nj1JPizsAmTm",
        "colab_type": "code",
        "colab": {}
      },
      "cell_type": "code",
      "source": [
        "import tensorflow as tf \n",
        "import numpy as np\n",
        "from matplotlib import pyplot as plt\n",
        "from tensorflow import keras\n",
        "%matplotlib inline"
      ],
      "execution_count": 0,
      "outputs": []
    },
    {
      "metadata": {
        "id": "M6wwR-2FMcsf",
        "colab_type": "code",
        "colab": {}
      },
      "cell_type": "code",
      "source": [
        "from tensorflow.keras.models import Sequential\n",
        "from tensorflow.keras.layers import Dense, Flatten, Dropout\n",
        "from tensorflow.nn import relu"
      ],
      "execution_count": 0,
      "outputs": []
    },
    {
      "metadata": {
        "id": "Dfe18-GyFWJr",
        "colab_type": "code",
        "outputId": "7dca878d-12f9-41ec-cc0b-0ce106091989",
        "colab": {
          "base_uri": "https://localhost:8080/",
          "height": 34
        }
      },
      "cell_type": "code",
      "source": [
        "print(\"You have version\", tf.__version__)\n",
        "assert tf.__version__ >= \"2.0\" # TensorFlow ≥ 2.0 required"
      ],
      "execution_count": 57,
      "outputs": [
        {
          "output_type": "stream",
          "text": [
            "You have version 2.0.0-dev20190427\n"
          ],
          "name": "stdout"
        }
      ]
    },
    {
      "metadata": {
        "id": "yvvYHvUHApi3",
        "colab_type": "code",
        "colab": {}
      },
      "cell_type": "code",
      "source": [
        "nx = 10\n",
        "dx = 1. / nx"
      ],
      "execution_count": 0,
      "outputs": []
    },
    {
      "metadata": {
        "id": "1QusUQWPxCho",
        "colab_type": "code",
        "colab": {}
      },
      "cell_type": "code",
      "source": [
        "def f(x):\n",
        "    '''\n",
        "        d2(psy)/dx2 = f(x, dpsy/dx, psy)\n",
        "        This is f() function on the right\n",
        "    '''\n",
        "    return tf.math.sin(x) + tf.math.sin(4*x) / 4 + tf.math.sin(8*x) / 8 + tf.math.sin(24*x) / 36\n",
        "\n",
        "\n",
        "def psy_analytic(x):\n",
        "    '''\n",
        "        Analytical solution of current problem\n",
        "    '''\n",
        "    return np.exp(-x/5.) * np.sin(x)\n",
        "\n",
        "def psy_trial(xi, net_out):\n",
        "    return (tf.constant(-1, dtype='float32') - xi) * (tf.constant(1,dtype='float32') - xi) * net_out"
      ],
      "execution_count": 0,
      "outputs": []
    },
    {
      "metadata": {
        "id": "aZhj9XUbEQaB",
        "colab_type": "text"
      },
      "cell_type": "markdown",
      "source": [
        "# Build Neural Network"
      ]
    },
    {
      "metadata": {
        "id": "MHFVvdlBGW0E",
        "colab_type": "code",
        "colab": {}
      },
      "cell_type": "code",
      "source": [
        "def loss_function(y_true, y_pred):\n",
        "    return keras.losses.mean_squared_error(y_true, y_pred)"
      ],
      "execution_count": 0,
      "outputs": []
    },
    {
      "metadata": {
        "id": "BeccXgfgAxoc",
        "colab_type": "code",
        "colab": {}
      },
      "cell_type": "code",
      "source": [
        "model = Sequential()\n",
        "model.add(Dense(10, input_shape=(nx, 1), activation='relu'))\n",
        "model.add(Dense(1,  activation='tanh'))\n",
        "optimizer = tf.keras.optimizers.Adam()"
      ],
      "execution_count": 0,
      "outputs": []
    },
    {
      "metadata": {
        "id": "cK77FeKFKLJV",
        "colab_type": "code",
        "colab": {}
      },
      "cell_type": "code",
      "source": [
        "x_space = np.linspace(-1, 1, nx).astype('float32').reshape(nx,1)\n",
        "x_space = tf.constant(x_space)"
      ],
      "execution_count": 0,
      "outputs": []
    },
    {
      "metadata": {
        "id": "yuh8JAAEMbfp",
        "colab_type": "code",
        "colab": {}
      },
      "cell_type": "code",
      "source": [
        "def train_on_batch(x):\n",
        "    with tf.GradientTape() as g_total:\n",
        "        g_total.watch(model.variables)\n",
        "        with tf.GradientTape() as g:\n",
        "            g.watch(x)\n",
        "            with tf.GradientTape() as gg:\n",
        "                gg.watch(x)\n",
        "                net_out = model(x)\n",
        "                psy_t = psy_trial(x, net_out)\n",
        "\n",
        "            dy_dx = gg.gradient(psy_t, x)     # gradient\n",
        "        d2y_dx2 = g.gradient(dy_dx, x)  # second order gradient\n",
        "        func = f(x) # right part function\n",
        "        loss = loss_function(d2y_dx2, func)\n",
        "\n",
        "    grads = g_total.gradient(loss, model.variables)\n",
        "    optimizer.apply_gradients(zip(grads, model.variables))\n",
        "    return tf.math.reduce_sum(loss)"
      ],
      "execution_count": 0,
      "outputs": []
    },
    {
      "metadata": {
        "id": "hiROuE1-OPM6",
        "colab_type": "code",
        "outputId": "2773ee1b-c22e-4b79-d6bc-27affbcacdad",
        "colab": {
          "base_uri": "https://localhost:8080/",
          "height": 102
        }
      },
      "cell_type": "code",
      "source": [
        "for i in range(1000):\n",
        "    loss = train_on_batch(x_space)\n",
        "    if i % 200 == 0:\n",
        "        print(loss)"
      ],
      "execution_count": 64,
      "outputs": [
        {
          "output_type": "stream",
          "text": [
            "tf.Tensor(23.091967, shape=(), dtype=float32)\n",
            "tf.Tensor(0.40821555, shape=(), dtype=float32)\n",
            "tf.Tensor(0.046064105, shape=(), dtype=float32)\n",
            "tf.Tensor(0.03516109, shape=(), dtype=float32)\n",
            "tf.Tensor(0.018587075, shape=(), dtype=float32)\n"
          ],
          "name": "stdout"
        }
      ]
    },
    {
      "metadata": {
        "id": "Zh1G3ZaChXSH",
        "colab_type": "code",
        "outputId": "eedeed3e-83e1-4313-b044-1b52c155f333",
        "colab": {
          "base_uri": "https://localhost:8080/",
          "height": 269
        }
      },
      "cell_type": "code",
      "source": [
        "plt.figure()\n",
        "res = psy_trial(x_space, model(x_space)).numpy().reshape(nx)\n",
        "plt.plot(x_space, res)\n",
        "plt.show()"
      ],
      "execution_count": 65,
      "outputs": [
        {
          "output_type": "display_data",
          "data": {
            "image/png": "[encoded data removed]",
            "text/plain": [
              "<Figure size 432x288 with 1 Axes>"
            ]
          },
          "metadata": {
            "tags": []
          }
        }
      ]
    },
    {
      "metadata": {
        "id": "1N41aXQoa2cV",
        "colab_type": "code",
        "colab": {}
      },
      "cell_type": "code",
      "source": [
        ""
      ],
      "execution_count": 0,
      "outputs": []
    }
  ]
}